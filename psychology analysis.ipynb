{
 "cells": [
  {
   "cell_type": "code",
   "execution_count": 2,
   "metadata": {},
   "outputs": [],
   "source": [
    "import pandas as pd\n",
    "import math\n",
    "from collections import defaultdict\n",
    "from scipy import stats\n",
    "import statistics as st\n",
    "\n",
    "%matplotlib inline\n",
    "import matplotlib.pyplot as plt\n",
    "plt.style.use('seaborn-whitegrid')\n",
    "\n",
    "import numpy as np\n",
    "from sklearn.linear_model import LinearRegression\n",
    "\n",
    "import statsmodels.api as sm\n",
    "import statsmodels.formula.api as smf\n",
    "\n",
    "from sklearn import linear_model\n",
    "\n",
    "from pca import pca\n",
    "from sklearn.cluster import KMeans\n",
    "\n",
    "from factor_analyzer import FactorAnalyzer\n",
    "import matplotlib.pyplot as plt\n",
    "from factor_analyzer.factor_analyzer import calculate_bartlett_sphericity\n",
    "from factor_analyzer.factor_analyzer import calculate_kmo\n",
    "\n",
    "import pingouin as pg\n",
    "from functools import reduce"
   ]
  },
  {
   "cell_type": "markdown",
   "metadata": {},
   "source": [
    "# Stress, Coping Strategies, and Metacognitive Functions\n",
    "\n",
    "Mental health has been gaining quite a lot of traction lately. This study contributes to the growing body of research on stress, coping strategies, and metacognitive functions. The first part of this notebook discusses the relationship between depression, anxiety, and stress levels. It may be counterintuitive, but their relationships is not as straightforward as it may seem. The second part inquires about the effectiveness of coping strategies. Are they all useful for forming metacognitive abilities such as planning or information management? Let's find out. "
   ]
  },
  {
   "cell_type": "code",
   "execution_count": 3,
   "metadata": {},
   "outputs": [
    {
     "name": "stdout",
     "output_type": "stream",
     "text": [
      "участник \n",
      "E-mail\n",
      "Group#\n",
      "Gender \n",
      "Your age\n",
      "Country you are from\n",
      "Holmes & Rahe Stress\n",
      "Depression Inventory\n",
      "Anxiety Inventory\n",
      "Confrontive\n",
      "distancing\n",
      "Self-control \n",
      "Seeking Social Support\n",
      "Accepting Responsibility\n",
      "Escape-Avoidance\n",
      "Planful Problem Solving\n",
      "Positive Reappraisal \n",
      "Declarative Knowledge (DK)\n",
      "Procedural Knowledge (PK)\n",
      "Conditional Knowledge (CK)\n",
      "Planning\n",
      "Information Management Strategies (IMS)\n",
      "Comprehension Monitoring (M)\n",
      "Debugging Strategies (D)\n",
      "Evaluation\n",
      "total\n",
      "nan\n",
      "nan\n",
      "28\n"
     ]
    }
   ],
   "source": [
    "#opening the excel file and getting familiar with the columns\n",
    "\n",
    "df = pd.read_excel(\"Резльтаты Тестирования 1курс 2019.xlsx\")\n",
    "df.columns = df.iloc[0]\n",
    "df = df.drop(df.index[0])\n",
    "df.rename(columns={df.columns[6]: \"Holmes & Rahe Stress\", \n",
    "                   df.columns[7]: \"Depression Inventory\", \n",
    "                   df.columns[8]: \"Anxiety Inventory\"}, inplace = True)\n",
    "count = 0\n",
    "for col in df.columns:\n",
    "    count +=1\n",
    "    print(col)\n",
    "print(count)"
   ]
  },
  {
   "cell_type": "code",
   "execution_count": 4,
   "metadata": {
    "scrolled": true
   },
   "outputs": [
    {
     "name": "stdout",
     "output_type": "stream",
     "text": [
      "Number of females =  40\n",
      "Number of males =  110\n",
      "Ratio =  26.666666666666668 women vs. 110 73.33333333333333 men\n",
      "{'egypt ': 17, 'India': 72, 'bangladesh': 4, 'indonesia': 3, 'palestine': 2, 'Tunisia': 1, 'algeria': 1, 'france': 1, 'uae': 1, 'Pakistan': 1, 'india ': 1, 'Uzbekistan ': 1, 'turkey': 1, 'sudan': 1, 'nigeria': 1, 'ecvador': 1, 'iran': 1, 'ewador': 1, 'Iraq': 1, 'pakistan': 1, 'gabon': 1, 'colombia': 1, 'venezuela': 1, 'Ecuador': 2}\n",
      "3415\n",
      "Mean age = 20.207100591715978\n",
      "2463 110\n",
      "Mean age of females =  23.8\n",
      "Mean age of males =  22.39090909090909\n"
     ]
    }
   ],
   "source": [
    "#descriptive stats\n",
    "#gender ratio\n",
    "\n",
    "women_count = len(df[df['Gender '] == 'female'])\n",
    "print(\"Number of females = \", women_count)\n",
    "male_count = len(df[df['Gender '] == 'male'])\n",
    "print(\"Number of males = \", male_count)\n",
    "print(\"Ratio = \", women_count/ (women_count + male_count) * 100, \"women vs.\",\n",
    "     male_count, male_count/ (women_count + male_count) * 100, \"men\")\n",
    "\n",
    "\n",
    "#country ratio\n",
    "\n",
    "df_country = df['Country you are from'].value_counts(dropna=True).to_dict()\n",
    "df_country[\"India\"] = df_country[\"India\"] + df_country[\"india\"] + df_country[\"infia\"]\n",
    "df_country['Ecuador'] = df_country['ecvador'] + df_country['ewador']\n",
    "df_country.pop('india', None)\n",
    "df_country.pop('infia', None)\n",
    "#df_country.pop['ecvador', None]\n",
    "#df_country.pop['ewador', None]\n",
    "\n",
    "for key, value in df_country.items():\n",
    "    df_country[key] = math.ceil(value / sum(df_country.values()) * 100)\n",
    "print(df_country)\n",
    "\n",
    "\n",
    "gender = df['Gender '].tolist()\n",
    "age = df['Your age'].tolist()\n",
    "res = [(i, j) for i, j in zip(gender, age)]\n",
    "cleaned_result = res[:len(res) - 3]\n",
    "cleaned_result = [(i.lower(),j) for i,j in cleaned_result]\n",
    "\n",
    "\n",
    "su_fem = 0\n",
    "su_male = 0\n",
    "\n",
    "list_of_ages = [tup[1] for tup in cleaned_result]\n",
    "list_of_ages = [0 if math.isnan(x) else x for x in list_of_ages]\n",
    "print(sum(list_of_ages))\n",
    "\n",
    "mean_age = sum(list_of_ages)/ (len(list_of_ages) - 1)\n",
    "\n",
    "print('Mean age =', mean_age)\n",
    "for tup in cleaned_result:\n",
    "    if tup[0] == 'female':\n",
    "        su_fem += tup[1]\n",
    "    elif tup[0] == 'male' and not math.isnan(tup[1]):\n",
    "        su_male += tup[1]\n",
    "print(su_male, male_count)\n",
    "print(\"Mean age of females = \", su_fem / women_count)\n",
    "print(\"Mean age of males = \", su_male / male_count)"
   ]
  },
  {
   "cell_type": "code",
   "execution_count": 7,
   "metadata": {},
   "outputs": [
    {
     "name": "stdout",
     "output_type": "stream",
     "text": [
      "0   Gender  Your age Country you are from  Holmes & Rahe Stress  \\\n",
      "1    female       19               egypt                  219.0   \n",
      "2    female       20               egypt                  214.0   \n",
      "3      male       20                india                 446.0   \n",
      "4      male       20               india                   91.0   \n",
      "5      male       17                india                 456.0   \n",
      "..      ...      ...                  ...                   ...   \n",
      "166    male       23                india                 287.0   \n",
      "167  female       19               egypt                  100.0   \n",
      "168    male       23                india                 262.0   \n",
      "169  female       22                india                  63.0   \n",
      "170    male       22                india                  80.0   \n",
      "\n",
      "0    Depression Inventory  Anxiety Inventory Confrontive distancing  \\\n",
      "1                    21.0               23.0          11         13   \n",
      "2                    21.0               20.0           9          6   \n",
      "3                    12.0               16.0          10          6   \n",
      "4                     3.0                7.0           8          9   \n",
      "5                    28.0               38.0          15         11   \n",
      "..                    ...                ...         ...        ...   \n",
      "166                  16.0               32.0           8         10   \n",
      "167                  33.0               27.0          16          8   \n",
      "168                   6.0                9.0           7         11   \n",
      "169                   9.0                6.0           6          8   \n",
      "170                   2.0                6.0           9         14   \n",
      "\n",
      "0   Self-control  Seeking Social Support  ... Positive Reappraisal   \\\n",
      "1              12                     15  ...                    12   \n",
      "2              15                     11  ...                    15   \n",
      "3               8                      8  ...                     9   \n",
      "4               7                      9  ...                     9   \n",
      "5              15                     13  ...                    19   \n",
      "..            ...                    ...  ...                   ...   \n",
      "166            13                     13  ...                    11   \n",
      "167            20                     10  ...                    20   \n",
      "168            18                      9  ...                    16   \n",
      "169             3                      0  ...                     5   \n",
      "170            15                     11  ...                    18   \n",
      "\n",
      "0   Declarative Knowledge (DK) Procedural Knowledge (PK)  \\\n",
      "1                            6                         3   \n",
      "2                            7                         3   \n",
      "3                            8                         4   \n",
      "4                            7                         2   \n",
      "5                            5                         4   \n",
      "..                         ...                       ...   \n",
      "166                          8                         4   \n",
      "167                          3                         4   \n",
      "168                          4                         3   \n",
      "169                          5                         1   \n",
      "170                          8                         4   \n",
      "\n",
      "0   Conditional Knowledge (CK) Planning  \\\n",
      "1                            4        4   \n",
      "2                            4        5   \n",
      "3                            5        7   \n",
      "4                            5        5   \n",
      "5                            4        3   \n",
      "..                         ...      ...   \n",
      "166                          4        6   \n",
      "167                          4        6   \n",
      "168                          5        5   \n",
      "169                          4        4   \n",
      "170                          5        6   \n",
      "\n",
      "0   Information Management Strategies (IMS) Comprehension Monitoring (M)  \\\n",
      "1                                         9                            5   \n",
      "2                                         8                            5   \n",
      "3                                        10                            7   \n",
      "4                                         7                            5   \n",
      "5                                         9                            5   \n",
      "..                                      ...                          ...   \n",
      "166                                       8                            5   \n",
      "167                                       8                            7   \n",
      "168                                      10                            6   \n",
      "169                                       7                            3   \n",
      "170                                      10                            7   \n",
      "\n",
      "0   Debugging Strategies (D) Evaluation total  \n",
      "1                          4          4    39  \n",
      "2                          4          5    41  \n",
      "3                          5          6    52  \n",
      "4                          4          4    40  \n",
      "5                          5          4    39  \n",
      "..                       ...        ...   ...  \n",
      "166                        4          5    44  \n",
      "167                        5          6    43  \n",
      "168                        5          5    43  \n",
      "169                        5          4    33  \n",
      "170                        5          6    51  \n",
      "\n",
      "[170 rows x 23 columns]\n"
     ]
    }
   ],
   "source": [
    "#more cleaning to get rid of irrelevant data and conceal private information\n",
    "\n",
    "#number_of_rows = len(index)\n",
    "df1 = df[0:170]\n",
    "df1 = df1.iloc[:, 3:26]\n",
    "df1['Gender '] = df1['Gender '].apply(lambda x: x.lower())\n",
    "print(df1)"
   ]
  },
  {
   "cell_type": "code",
   "execution_count": 8,
   "metadata": {},
   "outputs": [
    {
     "name": "stdout",
     "output_type": "stream",
     "text": [
      "Accepting Responsibility (8.170212765957446, 6.902439024390244, 2.7691184775894038, 0.0062527835422796245)\n",
      "Positive Reappraisal  (13.808510638297872, 12.268292682926829, 2.207396405049154, 0.028641473748355923)\n",
      "Comprehension Monitoring (M) (4.891304347826087, 5.553719008264463, -2.5877277432972505, 0.010522506326624761)\n"
     ]
    }
   ],
   "source": [
    "def for_ttest(col1, col2):\n",
    "    \n",
    "    \"\"\"this function conducts a t-test for a certain characteristic (col2)\n",
    "    based on a demographic trait (col1)\"\"\"\n",
    "    \n",
    "    col1 = df1[col1].tolist()\n",
    "    col2 = df1[col2].tolist()\n",
    "    setcol1 = set(col1)\n",
    "    res = [(i, j) for i, j in zip(col1, col2)]\n",
    "    list_of_lists = [[] for x in range(len(setcol1))]\n",
    "    for idx, i in enumerate(list(setcol1)):\n",
    "        for tup in res:\n",
    "            if tup[0] == i and not math.isnan(tup[1]):\n",
    "                list_of_lists[idx].append(tup[1])\n",
    "    statistic, pvalue = stats.ttest_ind(list_of_lists[0],list_of_lists[1])\n",
    "    return st.mean(list_of_lists[0]), st.mean(list_of_lists[1]), statistic, pvalue\n",
    "\n",
    "\n",
    "#we are only interested in t-tests where the alternative hypothesis is confirmed. Hence we're filtering out\n",
    "#all the ttests where p > 0.05\n",
    "\n",
    "for col in df1[df1.columns[df.columns.get_loc(\"Holmes & Rahe Stress\"): df.columns.get_loc(\"Evaluation\") + 1]]:\n",
    "    if for_ttest('Gender ', col)[3] < 0.05:        \n",
    "        print(col, for_ttest('Gender ', col))"
   ]
  },
  {
   "cell_type": "markdown",
   "metadata": {},
   "source": [
    "Based on the output, we can tell that the two genders show very different results when it comes to coping strategies such as *Accepting Responsibility* and *Positive Reappraisal*. There is also a difference regarding how sexes use *Comprehension Monitoring*. \n",
    "\n",
    "Now let's check our first hypotheses:\n",
    "H0: Stress does not impact depression and anxiety levels. \n",
    "H1. Stress does impact depression and anxiety levels. \n",
    "\n",
    "As we see below, based on the R-squared value (<0.8), the null hypoethesis is confirmed. The graphs below shows the absense of any obvious linear relationship."
   ]
  },
  {
   "cell_type": "code",
   "execution_count": 9,
   "metadata": {},
   "outputs": [
    {
     "name": "stdout",
     "output_type": "stream",
     "text": [
      "                                 OLS Regression Results                                \n",
      "=======================================================================================\n",
      "Dep. Variable:                      y   R-squared (uncentered):                   0.662\n",
      "Model:                            OLS   Adj. R-squared (uncentered):              0.660\n",
      "Method:                 Least Squares   F-statistic:                              330.7\n",
      "Date:                Tue, 20 Oct 2020   Prob (F-statistic):                    1.24e-41\n",
      "Time:                        23:33:25   Log-Likelihood:                         -1074.2\n",
      "No. Observations:                 170   AIC:                                      2150.\n",
      "Df Residuals:                     169   BIC:                                      2154.\n",
      "Df Model:                           1                                                  \n",
      "Covariance Type:            nonrobust                                                  \n",
      "==============================================================================\n",
      "                 coef    std err          t      P>|t|      [0.025      0.975]\n",
      "------------------------------------------------------------------------------\n",
      "x1            10.9317      0.601     18.185      0.000       9.745      12.118\n",
      "==============================================================================\n",
      "Omnibus:                       32.088   Durbin-Watson:                   1.721\n",
      "Prob(Omnibus):                  0.000   Jarque-Bera (JB):               90.730\n",
      "Skew:                           0.733   Prob(JB):                     1.99e-20\n",
      "Kurtosis:                       6.265   Cond. No.                         1.00\n",
      "==============================================================================\n",
      "\n",
      "Warnings:\n",
      "[1] Standard Errors assume that the covariance matrix of the errors is correctly specified.\n"
     ]
    },
    {
     "data": {
      "image/png": "[encoded data removed]",
      "text/plain": [
       "<Figure size 432x288 with 1 Axes>"
      ]
     },
     "metadata": {},
     "output_type": "display_data"
    }
   ],
   "source": [
    "\n",
    "\n",
    "plt.plot(df1['Holmes & Rahe Stress'].tolist(), df1['Depression Inventory'].tolist(), 'o', color='black');\n",
    "plt.title(\"Linear Relationship\")\n",
    "\n",
    "model = sm.OLS(df1['Holmes & Rahe Stress'].tolist(), df1['Depression Inventory'].tolist(), missing='drop').fit()\n",
    "print_model = model.summary()\n",
    "print(print_model)"
   ]
  },
  {
   "cell_type": "code",
   "execution_count": 10,
   "metadata": {},
   "outputs": [
    {
     "name": "stdout",
     "output_type": "stream",
     "text": [
      "                                 OLS Regression Results                                \n",
      "=======================================================================================\n",
      "Dep. Variable:                      y   R-squared (uncentered):                   0.628\n",
      "Model:                            OLS   Adj. R-squared (uncentered):              0.626\n",
      "Method:                 Least Squares   F-statistic:                              285.4\n",
      "Date:                Tue, 20 Oct 2020   Prob (F-statistic):                    3.89e-38\n",
      "Time:                        23:33:26   Log-Likelihood:                         -1082.3\n",
      "No. Observations:                 170   AIC:                                      2167.\n",
      "Df Residuals:                     169   BIC:                                      2170.\n",
      "Df Model:                           1                                                  \n",
      "Covariance Type:            nonrobust                                                  \n",
      "==============================================================================\n",
      "                 coef    std err          t      P>|t|      [0.025      0.975]\n",
      "------------------------------------------------------------------------------\n",
      "x1            10.1123      0.599     16.894      0.000       8.931      11.294\n",
      "==============================================================================\n",
      "Omnibus:                       36.297   Durbin-Watson:                   1.670\n",
      "Prob(Omnibus):                  0.000   Jarque-Bera (JB):              106.475\n",
      "Skew:                           0.826   Prob(JB):                     7.57e-24\n",
      "Kurtosis:                       6.507   Cond. No.                         1.00\n",
      "==============================================================================\n",
      "\n",
      "Warnings:\n",
      "[1] Standard Errors assume that the covariance matrix of the errors is correctly specified.\n"
     ]
    },
    {
     "data": {
      "text/plain": [
       "Text(0.5, 1.0, 'Linear Relationship Exists')"
      ]
     },
     "execution_count": 10,
     "metadata": {},
     "output_type": "execute_result"
    },
    {
     "data": {
      "image/png": "[encoded data removed]",
      "text/plain": [
       "<Figure size 432x288 with 1 Axes>"
      ]
     },
     "metadata": {},
     "output_type": "display_data"
    }
   ],
   "source": [
    "model = sm.OLS(df1['Holmes & Rahe Stress'].tolist(), df1['Anxiety Inventory'].tolist(), missing='drop').fit()\n",
    "print_model = model.summary()\n",
    "print(print_model)\n",
    "\n",
    "plt.plot(df1['Holmes & Rahe Stress'].tolist(), df1['Anxiety Inventory'].tolist(), 'o', color='black');\n",
    "plt.title(\"Linear Relationship Exists\")"
   ]
  },
  {
   "cell_type": "markdown",
   "metadata": {},
   "source": [
    "Just in case, we also checked the relationship between variables such as depression and anxiety. As expected, they predict each other, and the association is quite strong (R^2 > 0.829, p < 0.05). But as it often happens in psychology and social sciences, it is difficult to determine which variable is independent (predictor) and which is dependent (consequence).  "
   ]
  },
  {
   "cell_type": "code",
   "execution_count": 11,
   "metadata": {},
   "outputs": [
    {
     "name": "stdout",
     "output_type": "stream",
     "text": [
      "                                 OLS Regression Results                                \n",
      "=======================================================================================\n",
      "Dep. Variable:                      y   R-squared (uncentered):                   0.829\n",
      "Model:                            OLS   Adj. R-squared (uncentered):              0.828\n",
      "Method:                 Least Squares   F-statistic:                              818.6\n",
      "Date:                Tue, 20 Oct 2020   Prob (F-statistic):                    1.10e-66\n",
      "Time:                        23:33:27   Log-Likelihood:                         -574.66\n",
      "No. Observations:                 170   AIC:                                      1151.\n",
      "Df Residuals:                     169   BIC:                                      1154.\n",
      "Df Model:                           1                                                  \n",
      "Covariance Type:            nonrobust                                                  \n",
      "==============================================================================\n",
      "                 coef    std err          t      P>|t|      [0.025      0.975]\n",
      "------------------------------------------------------------------------------\n",
      "x1             0.8645      0.030     28.611      0.000       0.805       0.924\n",
      "==============================================================================\n",
      "Omnibus:                        0.349   Durbin-Watson:                   1.811\n",
      "Prob(Omnibus):                  0.840   Jarque-Bera (JB):                0.166\n",
      "Skew:                          -0.067   Prob(JB):                        0.920\n",
      "Kurtosis:                       3.075   Cond. No.                         1.00\n",
      "==============================================================================\n",
      "\n",
      "Warnings:\n",
      "[1] Standard Errors assume that the covariance matrix of the errors is correctly specified.\n",
      "None\n",
      "                                 OLS Regression Results                                \n",
      "=======================================================================================\n",
      "Dep. Variable:                      y   R-squared (uncentered):                   0.829\n",
      "Model:                            OLS   Adj. R-squared (uncentered):              0.828\n",
      "Method:                 Least Squares   F-statistic:                              818.6\n",
      "Date:                Tue, 20 Oct 2020   Prob (F-statistic):                    1.10e-66\n",
      "Time:                        23:33:28   Log-Likelihood:                         -583.46\n",
      "No. Observations:                 170   AIC:                                      1169.\n",
      "Df Residuals:                     169   BIC:                                      1172.\n",
      "Df Model:                           1                                                  \n",
      "Covariance Type:            nonrobust                                                  \n",
      "==============================================================================\n",
      "                 coef    std err          t      P>|t|      [0.025      0.975]\n",
      "------------------------------------------------------------------------------\n",
      "x1             0.9588      0.034     28.611      0.000       0.893       1.025\n",
      "==============================================================================\n",
      "Omnibus:                        6.525   Durbin-Watson:                   1.825\n",
      "Prob(Omnibus):                  0.038   Jarque-Bera (JB):                6.165\n",
      "Skew:                           0.443   Prob(JB):                       0.0459\n",
      "Kurtosis:                       3.293   Cond. No.                         1.00\n",
      "==============================================================================\n",
      "\n",
      "Warnings:\n",
      "[1] Standard Errors assume that the covariance matrix of the errors is correctly specified.\n",
      "None\n"
     ]
    },
    {
     "data": {
      "image/png": "[encoded data removed]",
      "text/plain": [
       "<Figure size 432x288 with 1 Axes>"
      ]
     },
     "metadata": {},
     "output_type": "display_data"
    }
   ],
   "source": [
    "def linreg_and_plot(df, iv, dv):\n",
    "    \"\"\"this function generates a linear model summary\n",
    "    and creates a linear regression graph\"\"\"\n",
    "    \n",
    "    x_iv = df[iv].tolist()\n",
    "    y_dv = df[dv].tolist()\n",
    "    \n",
    "    model = sm.OLS(x_iv, y_dv, missing='drop').fit()\n",
    "    print_model = model.summary()\n",
    "    print(print_model)\n",
    "    \n",
    "    m, b = np.polyfit(x_iv, y_dv, 1)\n",
    "    m = float(m)\n",
    "    b = float(b)\n",
    "    y = [m * x + b for x in x_iv]\n",
    "    \n",
    "    plt.plot(x_iv, y)\n",
    "    plt.plot(x_iv, y_dv, 'o', color='black')\n",
    "    plt.title(iv + dv)\n",
    "    \n",
    "print(linreg_and_plot(df1, 'Depression Inventory', 'Anxiety Inventory'))\n",
    "print(linreg_and_plot(df1, 'Anxiety Inventory', 'Depression Inventory'))"
   ]
  },
  {
   "cell_type": "markdown",
   "metadata": {},
   "source": [
    "But maybe we can gain better insighst if we control by some characteristics? Could it be that women and men react differently to stress, and one gender is more likely to get depressed or anxious as a result of stressful evensts?"
   ]
  },
  {
   "cell_type": "code",
   "execution_count": 12,
   "metadata": {},
   "outputs": [
    {
     "name": "stdout",
     "output_type": "stream",
     "text": [
      "0   Gender  Country you are from  Holmes & Rahe Stress  Depression Inventory  \\\n",
      "1    female               egypt                  219.0                  21.0   \n",
      "2    female               egypt                  214.0                  21.0   \n",
      "3      male                india                 446.0                  12.0   \n",
      "4      male               india                   91.0                   3.0   \n",
      "5      male                india                 456.0                  28.0   \n",
      "..      ...                  ...                   ...                   ...   \n",
      "166    male                india                 287.0                  16.0   \n",
      "167  female               egypt                  100.0                  33.0   \n",
      "168    male                india                 262.0                   6.0   \n",
      "169  female                india                  63.0                   9.0   \n",
      "170    male                india                  80.0                   2.0   \n",
      "\n",
      "0    Anxiety Inventory  \n",
      "1                 23.0  \n",
      "2                 20.0  \n",
      "3                 16.0  \n",
      "4                  7.0  \n",
      "5                 38.0  \n",
      "..                 ...  \n",
      "166               32.0  \n",
      "167               27.0  \n",
      "168                9.0  \n",
      "169                6.0  \n",
      "170                6.0  \n",
      "\n",
      "[170 rows x 5 columns]\n"
     ]
    }
   ],
   "source": [
    "#slicing df1 to leave only the relevant columns\n",
    "controlled_for_gender = df1.iloc[:, [df1.columns.get_loc(\"Gender \"), df1.columns.get_loc(\"Country you are from\"), df1.columns.get_loc(\"Holmes & Rahe Stress\"), df1.columns.get_loc(\"Depression Inventory\"), df1.columns.get_loc(\"Anxiety Inventory\")]]\n",
    "print(controlled_for_gender)\n",
    "\n",
    "def controlled(X, Y):\n",
    "    \"\"\"this function only fetches the results for \n",
    "    a selected characteristic such as gender\"\"\"\n",
    "    \n",
    "    data = list(zip(controlled_for_gender['Gender '].tolist(), list(zip(controlled_for_gender[X].tolist(), controlled_for_gender[Y].tolist()))))\n",
    "    list_for_f = [tup[1] for tup in data if tup[0] == 'female']\n",
    "    list_for_m = [tup[1] for tup in data if tup[0] == 'male']\n",
    "    list_for_f_ord = list(map(list, zip(*list_for_f)))\n",
    "    list_for_m_ord = list(map(list, zip(*list_for_m)))\n",
    "    return list_for_f_ord, list_for_m_ord"
   ]
  },
  {
   "cell_type": "markdown",
   "metadata": {},
   "source": [
    "Hmmm, it looks like female participants show a stronger relationship between depression and anxiety than male participants do! "
   ]
  },
  {
   "cell_type": "code",
   "execution_count": 13,
   "metadata": {},
   "outputs": [
    {
     "name": "stdout",
     "output_type": "stream",
     "text": [
      "                                 OLS Regression Results                                \n",
      "=======================================================================================\n",
      "Dep. Variable:                      y   R-squared (uncentered):                   0.842\n",
      "Model:                            OLS   Adj. R-squared (uncentered):              0.839\n",
      "Method:                 Least Squares   F-statistic:                              245.8\n",
      "Date:                Tue, 20 Oct 2020   Prob (F-statistic):                    4.47e-20\n",
      "Time:                        23:33:32   Log-Likelihood:                         -162.29\n",
      "No. Observations:                  47   AIC:                                      326.6\n",
      "Df Residuals:                      46   BIC:                                      328.4\n",
      "Df Model:                           1                                                  \n",
      "Covariance Type:            nonrobust                                                  \n",
      "==============================================================================\n",
      "                 coef    std err          t      P>|t|      [0.025      0.975]\n",
      "------------------------------------------------------------------------------\n",
      "x1             0.9115      0.058     15.678      0.000       0.794       1.028\n",
      "==============================================================================\n",
      "Omnibus:                        2.565   Durbin-Watson:                   1.415\n",
      "Prob(Omnibus):                  0.277   Jarque-Bera (JB):                1.612\n",
      "Skew:                          -0.398   Prob(JB):                        0.447\n",
      "Kurtosis:                       3.434   Cond. No.                         1.00\n",
      "==============================================================================\n",
      "\n",
      "Warnings:\n",
      "[1] Standard Errors assume that the covariance matrix of the errors is correctly specified.\n"
     ]
    },
    {
     "data": {
      "text/plain": [
       "[<matplotlib.lines.Line2D at 0x263b5254848>]"
      ]
     },
     "execution_count": 13,
     "metadata": {},
     "output_type": "execute_result"
    },
    {
     "data": {
      "image/png": "[encoded data removed]",
      "text/plain": [
       "<Figure size 432x288 with 1 Axes>"
      ]
     },
     "metadata": {},
     "output_type": "display_data"
    }
   ],
   "source": [
    "x_fem_dep = controlled('Depression Inventory', 'Anxiety Inventory')[0][0] \n",
    "y_fem_an = controlled('Depression Inventory', 'Anxiety Inventory')[0][1]\n",
    "\n",
    "model = sm.OLS(x_fem_dep, y_fem_an, missing='drop').fit()\n",
    "print_model = model.summary()\n",
    "print(print_model)\n",
    "\n",
    "m, b = np.polyfit(x_fem_dep, y_fem_an, 1)\n",
    "\n",
    "m = float(m)\n",
    "b = float(b)\n",
    "\n",
    "y = [m * x + b for x in x_fem_dep]\n",
    "\n",
    "plt.plot(x_fem_dep, y)\n",
    "plt.plot(x_fem_dep, y_fem_an, 'o', color='black')"
   ]
  },
  {
   "cell_type": "code",
   "execution_count": 14,
   "metadata": {},
   "outputs": [
    {
     "name": "stdout",
     "output_type": "stream",
     "text": [
      "                                 OLS Regression Results                                \n",
      "=======================================================================================\n",
      "Dep. Variable:                      y   R-squared (uncentered):                   0.823\n",
      "Model:                            OLS   Adj. R-squared (uncentered):              0.822\n",
      "Method:                 Least Squares   F-statistic:                              569.0\n",
      "Date:                Tue, 20 Oct 2020   Prob (F-statistic):                    9.10e-48\n",
      "Time:                        23:33:33   Log-Likelihood:                         -411.40\n",
      "No. Observations:                 123   AIC:                                      824.8\n",
      "Df Residuals:                     122   BIC:                                      827.6\n",
      "Df Model:                           1                                                  \n",
      "Covariance Type:            nonrobust                                                  \n",
      "==============================================================================\n",
      "                 coef    std err          t      P>|t|      [0.025      0.975]\n",
      "------------------------------------------------------------------------------\n",
      "x1             0.8427      0.035     23.854      0.000       0.773       0.913\n",
      "==============================================================================\n",
      "Omnibus:                        0.182   Durbin-Watson:                   1.729\n",
      "Prob(Omnibus):                  0.913   Jarque-Bera (JB):                0.085\n",
      "Skew:                           0.065   Prob(JB):                        0.958\n",
      "Kurtosis:                       3.000   Cond. No.                         1.00\n",
      "==============================================================================\n",
      "\n",
      "Warnings:\n",
      "[1] Standard Errors assume that the covariance matrix of the errors is correctly specified.\n"
     ]
    },
    {
     "data": {
      "text/plain": [
       "[<matplotlib.lines.Line2D at 0x263b5254948>]"
      ]
     },
     "execution_count": 14,
     "metadata": {},
     "output_type": "execute_result"
    },
    {
     "data": {
      "image/png": "[encoded data removed]",
      "text/plain": [
       "<Figure size 432x288 with 1 Axes>"
      ]
     },
     "metadata": {},
     "output_type": "display_data"
    }
   ],
   "source": [
    "x_male_dep = controlled('Depression Inventory', 'Anxiety Inventory')[1][0] \n",
    "y_male_an = controlled('Depression Inventory', 'Anxiety Inventory')[1][1]\n",
    "\n",
    "model = sm.OLS(x_male_dep, y_male_an, missing='drop').fit()\n",
    "print_model = model.summary()\n",
    "print(print_model)\n",
    "\n",
    "m, b = np.polyfit(x_male_dep, y_male_an, 1)\n",
    "\n",
    "m = float(m)\n",
    "b = float(b)\n",
    "\n",
    "y = [m * x + b for x in x_male_dep]\n",
    "\n",
    "plt.plot(x_male_dep, y)\n",
    "plt.plot(x_male_dep, y_male_an, 'o', color='black')"
   ]
  },
  {
   "cell_type": "markdown",
   "metadata": {},
   "source": [
    "At the same time, women are slighly more likely to get depressed as a result of stress. Though this finding is not exactly reliable as its R-squared value is a bit below the minimum acceptable of 0.7. "
   ]
  },
  {
   "cell_type": "code",
   "execution_count": 15,
   "metadata": {},
   "outputs": [
    {
     "name": "stdout",
     "output_type": "stream",
     "text": [
      "                                 OLS Regression Results                                \n",
      "=======================================================================================\n",
      "Dep. Variable:                      y   R-squared (uncentered):                   0.684\n",
      "Model:                            OLS   Adj. R-squared (uncentered):              0.677\n",
      "Method:                 Least Squares   F-statistic:                              99.41\n",
      "Date:                Tue, 20 Oct 2020   Prob (F-statistic):                    4.47e-13\n",
      "Time:                        23:33:35   Log-Likelihood:                         -296.42\n",
      "No. Observations:                  47   AIC:                                      594.8\n",
      "Df Residuals:                      46   BIC:                                      596.7\n",
      "Df Model:                           1                                                  \n",
      "Covariance Type:            nonrobust                                                  \n",
      "==============================================================================\n",
      "                 coef    std err          t      P>|t|      [0.025      0.975]\n",
      "------------------------------------------------------------------------------\n",
      "x1            10.1297      1.016      9.970      0.000       8.085      12.175\n",
      "==============================================================================\n",
      "Omnibus:                        1.001   Durbin-Watson:                   1.943\n",
      "Prob(Omnibus):                  0.606   Jarque-Bera (JB):                0.353\n",
      "Skew:                           0.132   Prob(JB):                        0.838\n",
      "Kurtosis:                       3.333   Cond. No.                         1.00\n",
      "==============================================================================\n",
      "\n",
      "Warnings:\n",
      "[1] Standard Errors assume that the covariance matrix of the errors is correctly specified.\n"
     ]
    },
    {
     "data": {
      "text/plain": [
       "[<matplotlib.lines.Line2D at 0x263b51c50c8>]"
      ]
     },
     "execution_count": 15,
     "metadata": {},
     "output_type": "execute_result"
    },
    {
     "data": {
      "image/png": "[encoded data removed]",
      "text/plain": [
       "<Figure size 432x288 with 1 Axes>"
      ]
     },
     "metadata": {},
     "output_type": "display_data"
    }
   ],
   "source": [
    "x_male_dep = controlled('Holmes & Rahe Stress', 'Depression Inventory')[0][0] \n",
    "y_male_an = controlled('Holmes & Rahe Stress', 'Depression Inventory')[0][1]\n",
    "\n",
    "model = sm.OLS(x_male_dep, y_male_an, missing='drop').fit()\n",
    "print_model = model.summary()\n",
    "print(print_model)\n",
    "\n",
    "m, b = np.polyfit(x_male_dep, y_male_an, 1)\n",
    "\n",
    "m = float(m)\n",
    "b = float(b)\n",
    "\n",
    "y = [m * x + b for x in x_male_dep]\n",
    "\n",
    "plt.plot(x_male_dep, y)\n",
    "plt.plot(x_male_dep, y_male_an, 'o', color='black')"
   ]
  },
  {
   "cell_type": "code",
   "execution_count": 16,
   "metadata": {},
   "outputs": [],
   "source": [
    "def controlled_country(X, Y):\n",
    "    \"\"\"this function divides datapoints into those belonging to\n",
    "    participants from India and not from India\"\"\"\n",
    "    \n",
    "    data = list(zip(controlled_for_gender['Country you are from'].tolist(), list(zip(controlled_for_gender[X].tolist(), controlled_for_gender[Y].tolist()))))\n",
    "    list_for_i = [tup[1] for tup in data if tup[0] == 'india']\n",
    "    list_for_others = [tup[1] for tup in data if tup[0] != 'india']\n",
    "    list_for_i_ord = list(map(list, zip(*list_for_i)))\n",
    "    list_for_others_ord = list(map(list, zip(*list_for_others)))\n",
    "    return list_for_i_ord, list_for_others_ord"
   ]
  },
  {
   "cell_type": "markdown",
   "metadata": {},
   "source": [
    "Here we have a curious finding that apparently, Indian students are more likely to become anxious from stress than students from other countries. Without further research, we can't make any informed guesses why it's this way. Should we ask them and offer friendly help?"
   ]
  },
  {
   "cell_type": "code",
   "execution_count": 17,
   "metadata": {},
   "outputs": [
    {
     "name": "stdout",
     "output_type": "stream",
     "text": [
      "                                 OLS Regression Results                                \n",
      "=======================================================================================\n",
      "Dep. Variable:                      y   R-squared (uncentered):                   0.673\n",
      "Model:                            OLS   Adj. R-squared (uncentered):              0.668\n",
      "Method:                 Least Squares   F-statistic:                              152.0\n",
      "Date:                Tue, 20 Oct 2020   Prob (F-statistic):                    1.29e-19\n",
      "Time:                        23:33:37   Log-Likelihood:                         -467.53\n",
      "No. Observations:                  75   AIC:                                      937.1\n",
      "Df Residuals:                      74   BIC:                                      939.4\n",
      "Df Model:                           1                                                  \n",
      "Covariance Type:            nonrobust                                                  \n",
      "==============================================================================\n",
      "                 coef    std err          t      P>|t|      [0.025      0.975]\n",
      "------------------------------------------------------------------------------\n",
      "x1             8.6022      0.698     12.328      0.000       7.212       9.993\n",
      "==============================================================================\n",
      "Omnibus:                        2.988   Durbin-Watson:                   1.427\n",
      "Prob(Omnibus):                  0.224   Jarque-Bera (JB):                2.232\n",
      "Skew:                           0.304   Prob(JB):                        0.328\n",
      "Kurtosis:                       3.586   Cond. No.                         1.00\n",
      "==============================================================================\n",
      "\n",
      "Warnings:\n",
      "[1] Standard Errors assume that the covariance matrix of the errors is correctly specified.\n"
     ]
    },
    {
     "data": {
      "text/plain": [
       "[<matplotlib.lines.Line2D at 0x263b5248208>]"
      ]
     },
     "execution_count": 17,
     "metadata": {},
     "output_type": "execute_result"
    },
    {
     "data": {
      "image/png": "[encoded data removed]",
      "text/plain": [
       "<Figure size 432x288 with 1 Axes>"
      ]
     },
     "metadata": {},
     "output_type": "display_data"
    }
   ],
   "source": [
    "x_ind_stress = controlled_country('Holmes & Rahe Stress', 'Anxiety Inventory')[1][0] \n",
    "y_ind_dep = controlled_country('Holmes & Rahe Stress', 'Anxiety Inventory')[1][1]\n",
    "\n",
    "model = sm.OLS(x_ind_stress, y_ind_dep, missing='drop').fit()\n",
    "print_model = model.summary()\n",
    "print(print_model)\n",
    "\n",
    "m, b = np.polyfit(x_ind_stress, y_ind_dep, 1)\n",
    "\n",
    "m = float(m)\n",
    "b = float(b)\n",
    "\n",
    "y = [m * x + b for x in x_ind_stress]\n",
    "\n",
    "plt.plot(x_ind_stress, y)\n",
    "plt.plot(x_ind_stress, y_ind_dep, 'o', color='black')"
   ]
  },
  {
   "cell_type": "markdown",
   "metadata": {},
   "source": [
    "## PCA Analysis\n",
    "\n",
    "PCA is used in exploratory data analysis and for making predictive models. It is commonly used for dimensionality reduction by projecting each data point onto only the first few principal components to obtain lower-dimensional data while preserving as much of the data's variation as possible. \n",
    "\n",
    "After implementing PCA on the dataset, our original features turned into Principal Components. Principal Components are the linear combination of our original features. Principal Components are not as readable and interpretable as original features. For this reason, ultimately, we were not sure about our understanding of principal components and their application to clustering. "
   ]
  },
  {
   "cell_type": "code",
   "execution_count": 18,
   "metadata": {},
   "outputs": [],
   "source": [
    "#PCA analysis\n",
    "from sklearn.decomposition import PCA\n",
    "from sklearn import preprocessing\n",
    "from sklearn.preprocessing import StandardScaler\n",
    "import matplotlib.pyplot as plt"
   ]
  },
  {
   "cell_type": "code",
   "execution_count": 128,
   "metadata": {},
   "outputs": [
    {
     "name": "stdout",
     "output_type": "stream",
     "text": [
      "0   Confrontive distancing Self-control  Seeking Social Support  \\\n",
      "1            11         13            12                     15   \n",
      "2             9          6            15                     11   \n",
      "3            10          6             8                      8   \n",
      "4             8          9             7                      9   \n",
      "5            15         11            15                     13   \n",
      "..          ...        ...           ...                    ...   \n",
      "166           8         10            13                     13   \n",
      "167          16          8            20                     10   \n",
      "168           7         11            18                      9   \n",
      "169           6          8             3                      0   \n",
      "170           9         14            15                     11   \n",
      "\n",
      "0   Accepting Responsibility Escape-Avoidance Planful Problem Solving  \\\n",
      "1                          8               14                       9   \n",
      "2                         11                6                       8   \n",
      "3                          5                9                       6   \n",
      "4                          7                6                       6   \n",
      "5                          9               16                      14   \n",
      "..                       ...              ...                     ...   \n",
      "166                        6               11                       9   \n",
      "167                       12               12                      15   \n",
      "168                        7                9                      10   \n",
      "169                        1                2                       4   \n",
      "170                        8               17                      12   \n",
      "\n",
      "0   Positive Reappraisal  target  \n",
      "1                      12     39  \n",
      "2                      15     41  \n",
      "3                       9     52  \n",
      "4                       9     40  \n",
      "5                      19     39  \n",
      "..                    ...    ...  \n",
      "166                    11     44  \n",
      "167                    20     43  \n",
      "168                    16     43  \n",
      "169                     5     33  \n",
      "170                    18     51  \n",
      "\n",
      "[170 rows x 9 columns]\n"
     ]
    }
   ],
   "source": [
    "#standardization of features, a must for PCA\n",
    "\n",
    "d = df1[df1.columns[df1.columns.get_loc(\"Confrontive\"): df1.columns.get_loc(\"Positive Reappraisal\\xa0\") + 1]]\n",
    "d = d.assign(target = df1['total'].values)\n",
    "d.dropna()\n",
    "print(d)\n",
    "\n",
    "features = [col for col in d.columns if col != 'target']\n",
    "x = d.loc[:, features].values\n",
    "y = d.loc[:, ['target']].values\n",
    "x = StandardScaler().fit_transform(x)"
   ]
  },
  {
   "cell_type": "code",
   "execution_count": 107,
   "metadata": {},
   "outputs": [
    {
     "name": "stdout",
     "output_type": "stream",
     "text": [
      "            1         2         3         4         5         6         7  \\\n",
      "0   -1.145766  0.185050 -1.218812  0.974082  0.267844  0.127919  0.206694   \n",
      "1   -0.088084  0.993140  1.424505  0.376558 -1.376161 -0.324828  0.571531   \n",
      "2    1.976903  0.683423 -0.599968 -0.417645 -0.305766  0.607038 -0.226903   \n",
      "3    1.936621  0.284543  0.053031  0.634058  0.288121  0.235832 -0.191730   \n",
      "4   -3.010908  0.866003 -0.320547 -0.477701 -0.134297  0.121344 -0.448550   \n",
      "..        ...       ...       ...       ...       ...       ...       ...   \n",
      "166 -3.343634  0.817546  1.435414 -1.312183 -1.224094  0.165120  0.087289   \n",
      "167 -0.543104 -0.354544  0.490864 -0.235970 -0.397231 -1.596677  0.800223   \n",
      "168  5.012175 -0.607235 -0.138842 -0.999653  1.128954 -0.043466 -0.754544   \n",
      "169 -2.096953 -0.509283 -0.581563  0.420879  0.014755 -0.947788 -0.367147   \n",
      "170       NaN       NaN       NaN       NaN       NaN       NaN       NaN   \n",
      "\n",
      "            8 target  \n",
      "0   -0.841662    NaN  \n",
      "1   -0.962690     39  \n",
      "2   -0.579509     41  \n",
      "3   -1.073189     52  \n",
      "4   -0.116086     40  \n",
      "..        ...    ...  \n",
      "166 -0.516074     44  \n",
      "167 -0.056399     43  \n",
      "168 -0.661541     43  \n",
      "169  0.525763     33  \n",
      "170       NaN     51  \n",
      "\n",
      "[171 rows x 9 columns]\n"
     ]
    }
   ],
   "source": [
    "#change of basis\n",
    "\n",
    "model = PCA(n_components = 8)\n",
    "\n",
    "principalComponents = model.fit_transform(x)\n",
    "\n",
    "principalDataframe = pd.DataFrame(data = principalComponents, columns = ['1','2','3','4','5','6', '7','8'])\n",
    "\n",
    "targetDataframe = d[['target']]\n",
    "\n",
    "newDataframe = pd.concat([principalDataframe, targetDataframe],axis = 1)\n",
    "print(newDataframe)"
   ]
  },
  {
   "cell_type": "code",
   "execution_count": 108,
   "metadata": {},
   "outputs": [
    {
     "name": "stdout",
     "output_type": "stream",
     "text": [
      "[pca] >Column labels are auto-completed.\n",
      "[pca] >Row labels are auto-completed.\n",
      "[pca] >The PCA reduction is performed to capture [95.0%] explained variance using the [8] columns of the input data.\n",
      "[pca] >Fitting using PCA..\n",
      "[pca] >Computing loadings and PCs..\n",
      "[pca] >Computing explained variance..\n",
      "[pca] >Number of components is [7] that covers the [95.00%] explained variance.\n",
      "[pca] >Outlier detection using Hotelling T2 test with alpha=[0.05] and n_components=[5]\n",
      "[pca] >Outlier detection using SPE/DmodX with n_std=[2]\n",
      "    PC feature   loading  type\n",
      "0  PC1       7 -0.387393  best\n",
      "1  PC2       4  0.571871  best\n",
      "2  PC3       6 -0.579363  best\n",
      "3  PC4       1 -0.538272  best\n",
      "4  PC5       2  0.544318  best\n",
      "5  PC6       8 -0.624111  best\n",
      "6  PC7       3  0.618049  best\n",
      "7  PC8       1 -0.526170  best\n",
      "8  PC3       5  0.557096  weak\n"
     ]
    }
   ],
   "source": [
    "#finding best features that could represent the entire dataset\n",
    "\n",
    "modeling = pca()\n",
    "out = modeling.fit_transform(x)\n",
    "print(out['topfeat'])"
   ]
  },
  {
   "cell_type": "code",
   "execution_count": 109,
   "metadata": {},
   "outputs": [
    {
     "data": {
      "image/png": "[encoded data removed]",
      "text/plain": [
       "<Figure size 432x288 with 1 Axes>"
      ]
     },
     "metadata": {},
     "output_type": "display_data"
    }
   ],
   "source": [
    "#creating a bar chart showing how many percents of variance in the dataset each feature is responsible for\n",
    "\n",
    "percent_variance = np.round(model.explained_variance_ratio_* 100, decimals =2)\n",
    "columns = ['1','2','3','4','5','6', '7','8']\n",
    "plt.bar(x = range(1,9), height = percent_variance, tick_label=columns)\n",
    "plt.ylabel('Percentate of Variance Explained')\n",
    "plt.xlabel('Principal Component')\n",
    "plt.title('PCA Scree Plot')\n",
    "plt.show()"
   ]
  },
  {
   "cell_type": "code",
   "execution_count": 110,
   "metadata": {},
   "outputs": [
    {
     "data": {
      "text/plain": [
       "Text(0, 0.5, 'PC2')"
      ]
     },
     "execution_count": 110,
     "metadata": {},
     "output_type": "execute_result"
    },
    {
     "data": {
      "image/png": "[encoded data removed]",
      "text/plain": [
       "<Figure size 432x288 with 1 Axes>"
      ]
     },
     "metadata": {},
     "output_type": "display_data"
    }
   ],
   "source": [
    "#our dataset after principal component decomposition, now represented only with two components\n",
    "\n",
    "plt.scatter(principalDataframe['7'], principalDataframe['4'])\n",
    "plt.title('PC1 against PC2')\n",
    "plt.xlabel('PC1')\n",
    "plt.ylabel('PC2')"
   ]
  },
  {
   "cell_type": "code",
   "execution_count": 111,
   "metadata": {},
   "outputs": [
    {
     "data": {
      "text/plain": [
       "array([0.48507272, 0.12771468, 0.1027021 , 0.07412351, 0.06150474,\n",
       "       0.05797101, 0.0486245 , 0.04228676])"
      ]
     },
     "execution_count": 111,
     "metadata": {},
     "output_type": "execute_result"
    }
   ],
   "source": [
    "#the percentage of variance for each component\n",
    "\n",
    "model.explained_variance_ratio_"
   ]
  },
  {
   "cell_type": "code",
   "execution_count": 112,
   "metadata": {},
   "outputs": [
    {
     "data": {
      "image/png": "[encoded data removed]",
      "text/plain": [
       "<Figure size 432x288 with 1 Axes>"
      ]
     },
     "metadata": {},
     "output_type": "display_data"
    }
   ],
   "source": [
    "#elbow method for determining the most optimal number of clusters\n",
    "\n",
    "ks = range(1, 10)\n",
    "inertias = [] \n",
    "for k in ks:\n",
    "    model = KMeans(n_clusters=k)\n",
    "    model.fit(principalDataframe.iloc[:,:3])\n",
    "    inertias.append(model.inertia_)\n",
    "    \n",
    "plt.plot(ks, inertias, '-o', color='black')\n",
    "plt.xlabel('number of clusters, k')\n",
    "plt.ylabel('inertia')\n",
    "plt.xticks(ks)\n",
    "plt.show()"
   ]
  },
  {
   "cell_type": "code",
   "execution_count": 124,
   "metadata": {},
   "outputs": [
    {
     "data": {
      "image/png": "[encoded data removed]",
      "text/plain": [
       "<Figure size 432x288 with 1 Axes>"
      ]
     },
     "metadata": {},
     "output_type": "display_data"
    }
   ],
   "source": [
    "#K-means clustering\n",
    "#At first glance, there are no obvious clusters\n",
    "\n",
    "X = principalDataframe[['7', '4']].copy()\n",
    "\n",
    "kmeans = KMeans(n_clusters=4, init='k-means++', max_iter=300, n_init=10, random_state=0)\n",
    "pred_y = kmeans.fit_predict(X)\n",
    "plt.scatter(X['7'], X['4'])\n",
    "plt.xlabel('Planful Problem Solving')\n",
    "plt.ylabel('Seeking Social Support')\n",
    "plt.scatter(kmeans.cluster_centers_[:, 0], kmeans.cluster_centers_[:, 1], s=300, c='red')\n",
    "plt.show()"
   ]
  },
  {
   "cell_type": "code",
   "execution_count": 125,
   "metadata": {},
   "outputs": [
    {
     "name": "stdout",
     "output_type": "stream",
     "text": [
      "            7         4  cluster\n",
      "0    0.206694  0.974082        0\n",
      "1    0.571531  0.376558        3\n",
      "2   -0.226903 -0.417645        1\n",
      "3   -0.191730  0.634058        0\n",
      "4   -0.448550 -0.477701        1\n",
      "..        ...       ...      ...\n",
      "165  0.886011  0.489482        3\n",
      "166  0.087289 -1.312183        2\n",
      "167  0.800223 -0.235970        3\n",
      "168 -0.754544 -0.999653        1\n",
      "169 -0.367147  0.420879        0\n",
      "\n",
      "[170 rows x 3 columns]\n"
     ]
    },
    {
     "data": {
      "text/plain": [
       "3    58\n",
       "1    50\n",
       "2    34\n",
       "0    28\n",
       "Name: cluster, dtype: int64"
      ]
     },
     "execution_count": 125,
     "metadata": {},
     "output_type": "execute_result"
    }
   ],
   "source": [
    "frame = pd.DataFrame(X)\n",
    "frame['cluster'] = pred_y\n",
    "print(frame)\n",
    "frame['cluster'].value_counts()"
   ]
  },
  {
   "cell_type": "markdown",
   "metadata": {},
   "source": [
    "Total:\n",
    "\n",
    "Cluster 0: Low problem solving, high seeking social support\n",
    "\n",
    "Cluster 1: Low problem solving, low seeking social support\n",
    "\n",
    "Cluster 2: High problem solving, low seeking social support\n",
    "\n",
    "Cluster 3: High problem solving, high seeking social support\n",
    "\n",
    "The clusters with the largest population are 3 and 1. The smallest number of people falls into cluster 0."
   ]
  },
  {
   "cell_type": "code",
   "execution_count": 126,
   "metadata": {},
   "outputs": [],
   "source": [
    "from sklearn.feature_selection import SelectKBest\n",
    "from sklearn.feature_selection import chi2"
   ]
  },
  {
   "cell_type": "markdown",
   "metadata": {},
   "source": [
    "### Univariate Selection\n",
    "\n",
    "Univariate feature selection examines each feature individually to determine the strength of the relationship of the feature with the response variable. These methods are simple to run and understand and are in general particularly good for gaining a better understanding of data (but not necessarily for optimizing the feature set for better generalization). There are lot of different options for univariate selection.\n",
    "\n",
    "One of the simplest method for understanding a feature’s relation to the response variable is Pearson correlation coefficient, which measures linear correlation between two variables. The resulting value lies in -1;1, with -1 meaning perfect negative correlation (as one variable increases, the other decreases), +1 meaning perfect positive correlation and 0 meaning no linear correlation between the two variables."
   ]
  },
  {
   "cell_type": "code",
   "execution_count": 137,
   "metadata": {},
   "outputs": [
    {
     "name": "stdout",
     "output_type": "stream",
     "text": [
      "['Confrontive', 'distancing', 'Self-control ', 'Seeking Social Support', 'Accepting Responsibility', 'Escape-Avoidance', 'Planful Problem Solving', 'Positive Reappraisal\\xa0', 'target']\n",
      "                      Specs      Score\n",
      "3    Seeking Social Support  58.153879\n",
      "6   Planful Problem Solving  55.576721\n",
      "5          Escape-Avoidance  54.438691\n",
      "2             Self-control   43.616738\n",
      "0               Confrontive  40.820897\n",
      "7     Positive Reappraisal   40.024954\n",
      "1                distancing  30.412428\n",
      "4  Accepting Responsibility  29.592686\n"
     ]
    }
   ],
   "source": [
    "#univariate selection\n",
    "d = df1[df1.columns[df1.columns.get_loc(\"Confrontive\"): df1.columns.get_loc(\"Positive Reappraisal\\xa0\") + 1]]\n",
    "d = d.assign(target = df1['total'].values)\n",
    "\n",
    "print([col for col in d])\n",
    "\n",
    "d = d.dropna()\n",
    "\n",
    "X = d.iloc[:,0:d.columns.get_loc(\"target\")]\n",
    "y = d.iloc[:,-1]\n",
    "y = y.astype('int')\n",
    "\n",
    "bestfeatures = SelectKBest(score_func = chi2, k = 8)\n",
    "fit = bestfeatures.fit(X,y)\n",
    "dfscores = pd.DataFrame(fit.scores_)\n",
    "dfcolumns = pd.DataFrame(X.columns)\n",
    "\n",
    "#concat two dataframes for better visualization \n",
    "featureScores = pd.concat([dfcolumns,dfscores],axis=1)\n",
    "featureScores.columns = ['Specs','Score']  #naming the dataframe columns\n",
    "print(featureScores.nlargest(8,'Score'))"
   ]
  },
  {
   "cell_type": "markdown",
   "metadata": {},
   "source": [
    "As we see, *Seeking Social Support* seems to be the best predictor of metacognitive abilities. Let's use linear regression to check how correlated these variables are. The summary belows a not-so-bad R^2 value with p < 0.05. But could this model be improved if instead, we selected several best features to predict the metacognitive scores?"
   ]
  },
  {
   "cell_type": "code",
   "execution_count": 145,
   "metadata": {},
   "outputs": [
    {
     "name": "stdout",
     "output_type": "stream",
     "text": [
      "Intercept: \n",
      " 41.06580479046642\n",
      "Coefficients: \n",
      " [-0.03397029]\n",
      "                                 OLS Regression Results                                \n",
      "=======================================================================================\n",
      "Dep. Variable:                      y   R-squared (uncentered):                   0.821\n",
      "Model:                            OLS   Adj. R-squared (uncentered):              0.820\n",
      "Method:                 Least Squares   F-statistic:                              759.3\n",
      "Date:                Wed, 21 Oct 2020   Prob (F-statistic):                    7.94e-64\n",
      "Time:                        00:22:37   Log-Likelihood:                         -474.03\n",
      "No. Observations:                 167   AIC:                                      950.1\n",
      "Df Residuals:                     166   BIC:                                      953.2\n",
      "Df Model:                           1                                                  \n",
      "Covariance Type:            nonrobust                                                  \n",
      "==============================================================================\n",
      "                 coef    std err          t      P>|t|      [0.025      0.975]\n",
      "------------------------------------------------------------------------------\n",
      "x1             0.2138      0.008     27.556      0.000       0.198       0.229\n",
      "==============================================================================\n",
      "Omnibus:                        3.102   Durbin-Watson:                   1.997\n",
      "Prob(Omnibus):                  0.212   Jarque-Bera (JB):                2.284\n",
      "Skew:                           0.123   Prob(JB):                        0.319\n",
      "Kurtosis:                       2.483   Cond. No.                         1.00\n",
      "==============================================================================\n",
      "\n",
      "Warnings:\n",
      "[1] Standard Errors assume that the covariance matrix of the errors is correctly specified.\n",
      "[7.93995615e-64]\n"
     ]
    }
   ],
   "source": [
    "x_ind = d['Seeking Social Support'].tolist()\n",
    "y_ind = d['target'].tolist()\n",
    "\n",
    "x_ind = np.array([x_ind]).reshape((-1,1))\n",
    "                 \n",
    "regr = linear_model.LinearRegression()\n",
    "regr.fit(x_ind, y_ind)\n",
    "\n",
    "print('Intercept: \\n', regr.intercept_)\n",
    "print('Coefficients: \\n', regr.coef_)\n",
    "\n",
    "model = sm.OLS(d['Seeking Social Support'].tolist(), d['target'].tolist(), missing='drop').fit()\n",
    "print_model = model.summary()\n",
    "print(print_model)\n",
    "print(model.pvalues)"
   ]
  },
  {
   "cell_type": "code",
   "execution_count": 146,
   "metadata": {},
   "outputs": [],
   "source": [
    "from sklearn.ensemble import ExtraTreesClassifier\n",
    "import seaborn as sns\n",
    "from sklearn.ensemble import RandomForestClassifier\n",
    "from sklearn.feature_selection import SelectFromModel\n",
    "from sklearn.model_selection import train_test_split"
   ]
  },
  {
   "cell_type": "markdown",
   "metadata": {},
   "source": [
    "### Random Forest for Feature Importance\n",
    "\n",
    "Random forests are among the most popular machine learning methods thanks to their relatively good accuracy, robustness and ease of use. They also provide two straightforward methods for feature selection: mean decrease impurity and mean decrease accuracy."
   ]
  },
  {
   "cell_type": "code",
   "execution_count": 153,
   "metadata": {},
   "outputs": [
    {
     "name": "stdout",
     "output_type": "stream",
     "text": [
      "125 125 42 42\n",
      "['Escape-Avoidance', 'Planful Problem Solving', 'Positive Reappraisal\\xa0']\n"
     ]
    }
   ],
   "source": [
    "X_train,X_test, y_train,y_test = train_test_split(X,y)\n",
    "y_train = y_train.astype('int')\n",
    "y_test = y_test.astype('int')\n",
    "print(len(X_train), len(y_train), len(X_test), len(y_test))\n",
    "\n",
    "sel = SelectFromModel(RandomForestClassifier(n_estimators = 100, random_state = 0))\n",
    "sel.fit(X_train, y_train)\n",
    "sel.get_support()\n",
    "selected_feat= X_train.columns[(sel.get_support())]\n",
    "print(list(selected_feat))"
   ]
  },
  {
   "cell_type": "code",
   "execution_count": 154,
   "metadata": {},
   "outputs": [
    {
     "data": {
      "text/plain": [
       "<Figure size 720x720 with 0 Axes>"
      ]
     },
     "execution_count": 154,
     "metadata": {},
     "output_type": "execute_result"
    },
    {
     "data": {
      "text/plain": [
       "<Figure size 720x720 with 0 Axes>"
      ]
     },
     "metadata": {},
     "output_type": "display_data"
    }
   ],
   "source": [
    "list_of_factors = ['Escape-Avoidance', 'Planful Problem Solving', 'Positive Reappraisal\\xa0']\n",
    "new = d[list_of_factors].copy()\n",
    "corr = new.astype('float64').corr().astype('float64')\n",
    "top_corr_features = corr.index\n",
    "plt.figure(figsize=(10,10))"
   ]
  },
  {
   "cell_type": "code",
   "execution_count": 155,
   "metadata": {},
   "outputs": [
    {
     "name": "stdout",
     "output_type": "stream",
     "text": [
      "Intercept: \n",
      " 34.70059703155069\n",
      "Coefficients: \n",
      " [ 0.1005672   0.50014543 -0.02079642]\n"
     ]
    }
   ],
   "source": [
    "X = d[list_of_factors]\n",
    "Y = d['target']\n",
    "\n",
    "regr = linear_model.LinearRegression()\n",
    "regr.fit(X, Y)\n",
    "\n",
    "print('Intercept: \\n', regr.intercept_)\n",
    "print('Coefficients: \\n', regr.coef_)"
   ]
  },
  {
   "cell_type": "markdown",
   "metadata": {},
   "source": [
    "And just like magic, we bump up the fitness of the model to a whopping 0.925! Now we can conclude that it is the participants who use coping strategies such as *'Escape-Avoidance', 'Planful Problem Solving', and 'Positive Reappraisal'* are the most likely to have high metacognitive scores.  "
   ]
  },
  {
   "cell_type": "code",
   "execution_count": 156,
   "metadata": {},
   "outputs": [
    {
     "name": "stdout",
     "output_type": "stream",
     "text": [
      "                                 OLS Regression Results                                \n",
      "=======================================================================================\n",
      "Dep. Variable:                 target   R-squared (uncentered):                   0.925\n",
      "Model:                            OLS   Adj. R-squared (uncentered):              0.924\n",
      "Method:                 Least Squares   F-statistic:                              676.7\n",
      "Date:                Wed, 21 Oct 2020   Prob (F-statistic):                    4.26e-92\n",
      "Time:                        00:25:25   Log-Likelihood:                         -642.05\n",
      "No. Observations:                 167   AIC:                                      1290.\n",
      "Df Residuals:                     164   BIC:                                      1299.\n",
      "Df Model:                           3                                                  \n",
      "Covariance Type:            nonrobust                                                  \n",
      "===========================================================================================\n",
      "                              coef    std err          t      P>|t|      [0.025      0.975]\n",
      "-------------------------------------------------------------------------------------------\n",
      "Escape-Avoidance            0.9334      0.207      4.502      0.000       0.524       1.343\n",
      "Planful Problem Solving     1.3779      0.276      4.994      0.000       0.833       1.923\n",
      "Positive Reappraisal        1.0772      0.231      4.662      0.000       0.621       1.533\n",
      "==============================================================================\n",
      "Omnibus:                        4.083   Durbin-Watson:                   1.850\n",
      "Prob(Omnibus):                  0.130   Jarque-Bera (JB):                2.472\n",
      "Skew:                          -0.030   Prob(JB):                        0.291\n",
      "Kurtosis:                       2.407   Cond. No.                         7.67\n",
      "==============================================================================\n",
      "\n",
      "Warnings:\n",
      "[1] Standard Errors assume that the covariance matrix of the errors is correctly specified.\n"
     ]
    }
   ],
   "source": [
    "model = sm.OLS(Y.astype(float), X.astype(float)).fit()\n",
    "predictions = model.predict(X) \n",
    " \n",
    "print_model = model.summary()\n",
    "print(print_model)"
   ]
  },
  {
   "cell_type": "code",
   "execution_count": 157,
   "metadata": {},
   "outputs": [
    {
     "name": "stdout",
     "output_type": "stream",
     "text": [
      "{'Confrontive': dtype('O'), 'distancing': dtype('O'), 'Self-control ': dtype('O'), 'Seeking Social Support': dtype('O'), 'Accepting Responsibility': dtype('O'), 'Escape-Avoidance': dtype('O'), 'Planful Problem Solving': dtype('O'), 'Positive Reappraisal\\xa0': dtype('O'), 'target': dtype('O')}\n",
      "Empty DataFrame\n",
      "Columns: []\n",
      "Index: []\n",
      "Index([], dtype='object')\n"
     ]
    },
    {
     "data": {
      "text/plain": [
       "<Figure size 720x720 with 0 Axes>"
      ]
     },
     "metadata": {},
     "output_type": "display_data"
    }
   ],
   "source": [
    "#correlation map\n",
    "dataTypeDict = dict(d.dtypes)\n",
    "print(dataTypeDict)\n",
    "corrmat = d.corr()\n",
    "print(corrmat)\n",
    "top_corr_features = corrmat.index\n",
    "print(top_corr_features)\n",
    "plt.figure(figsize=(10,10))\n",
    "#plot heat map\n",
    "try:\n",
    "    sns.heatmap(corrmat,annot=True,cmap=\"RdYlGn\")\n",
    "except ValueError: \n",
    "    pass"
   ]
  },
  {
   "cell_type": "markdown",
   "metadata": {},
   "source": [
    "### Factor Analysis\n",
    "\n",
    "Factor analysis is a statistical method used to describe variability among observed, correlated variables in terms of a potentially lower number of unobserved variables called factors. For example, it is possible that variations in six observed variables mainly reflect the variations in two unobserved (underlying) variables. Factor analysis searches for such joint variations in response to unobserved latent variables. The observed variables are modelled as linear combinations of the potential factors, plus \"error\" terms. Factor analysis aims to find independent latent variables.\n",
    "\n",
    "The theory behind factor analytic methods is that the information gained about the interdependencies between observed variables can be used later to reduce the set of variables in a dataset.\n",
    "\n",
    "https://en.wikipedia.org/wiki/Factor_analysis"
   ]
  },
  {
   "cell_type": "code",
   "execution_count": 158,
   "metadata": {},
   "outputs": [],
   "source": [
    "d_fa_coping = df1[df1.columns[df1.columns.get_loc(\"Confrontive\"): df1.columns.get_loc(\"Positive Reappraisal\\xa0\") + 1]]\n",
    "d_fa_metacog = df1[df1.columns[df1.columns.get_loc('Declarative Knowledge (DK)'): df1.columns.get_loc('Evaluation') + 1]]    \n",
    "\n",
    "d_fa_coping.astype(float).dtypes\n",
    "\n",
    "d_fa_metacog_1 = d_fa_metacog.dropna(axis=0, how='any')"
   ]
  },
  {
   "cell_type": "code",
   "execution_count": 111,
   "metadata": {},
   "outputs": [
    {
     "name": "stdout",
     "output_type": "stream",
     "text": [
      "coping dataset 479.02091177187407 6.574133888636929e-84\n",
      "metacog dataset 379.3784517679194 1.3748655961444177e-63\n"
     ]
    }
   ],
   "source": [
    "#Bartlett’s test of sphericity checks whether or not the observed variables intercorrelate at all \n",
    "chi_square_value,p_value = calculate_bartlett_sphericity(d_fa_coping.astype(float))\n",
    "print('coping dataset', chi_square_value, p_value)\n",
    "\n",
    "chi_square_value,p_value = calculate_bartlett_sphericity(d_fa_metacog_1.astype(float))\n",
    "print('metacog dataset', chi_square_value, p_value)"
   ]
  },
  {
   "cell_type": "code",
   "execution_count": 113,
   "metadata": {},
   "outputs": [
    {
     "name": "stdout",
     "output_type": "stream",
     "text": [
      "Coping dataset 0.8497285277436702\n",
      "Metacog dataset 0.8215058613010159\n"
     ]
    }
   ],
   "source": [
    "#Kaiser-Meyer-Olkin (KMO) Test measures the suitability of data for factor analysis\n",
    "#values less than 0.6 are considered inadequate\n",
    "kmo_all,kmo_model = calculate_kmo(d_fa_coping.astype(float))\n",
    "print('Coping dataset', kmo_model)\n",
    "\n",
    "kmo_all,kmo_model = calculate_kmo(d_fa_metacog_1.astype(float))\n",
    "print('Metacog dataset', kmo_model)"
   ]
  },
  {
   "cell_type": "code",
   "execution_count": 159,
   "metadata": {},
   "outputs": [
    {
     "name": "stdout",
     "output_type": "stream",
     "text": [
      "[3.88058172 1.0217174  0.82161677 0.59298806 0.49203789 0.46376808\n",
      " 0.38899602 0.33829405]\n",
      "[3.50532798 0.97660327 0.84801199 0.73594297 0.68552584 0.47698696\n",
      " 0.4440122  0.3275888 ]\n"
     ]
    },
    {
     "data": {
      "text/plain": [
       "<matplotlib.collections.PathCollection at 0x263b6a94488>"
      ]
     },
     "execution_count": 159,
     "metadata": {},
     "output_type": "execute_result"
    },
    {
     "data": {
      "image/png": "[encoded data removed]",
      "text/plain": [
       "<Figure size 432x288 with 1 Axes>"
      ]
     },
     "metadata": {},
     "output_type": "display_data"
    }
   ],
   "source": [
    "#elbow method for determining the best number of factors\n",
    "\n",
    "fa = FactorAnalyzer()\n",
    "fa.fit(d_fa_coping)\n",
    "eigen_values, vectors = fa.get_eigenvalues()\n",
    "print(eigen_values)\n",
    "\n",
    "fa = FactorAnalyzer()\n",
    "fa.fit(d_fa_metacog_1)\n",
    "eigen_values, vectors = fa.get_eigenvalues()\n",
    "print(eigen_values)\n",
    "\n",
    "plt.scatter(range(1,d_fa_metacog_1.shape[1]+1),eigen_values)"
   ]
  },
  {
   "cell_type": "code",
   "execution_count": 160,
   "metadata": {},
   "outputs": [
    {
     "name": "stdout",
     "output_type": "stream",
     "text": [
      "                   Features        f1        f2\n",
      "0               Confrontive  0.630254  0.364088\n",
      "1                distancing  0.106584  0.755212\n",
      "2             Self-control   0.393594  0.627381\n",
      "3    Seeking Social Support  0.583167  0.141215\n",
      "4  Accepting Responsibility  0.388069  0.450453\n",
      "5          Escape-Avoidance  0.325367  0.567330\n",
      "6   Planful Problem Solving  0.554429  0.455818\n",
      "7     Positive Reappraisal   0.739941  0.229677\n",
      "[('Confrontive', 0.6302536373874746), ('Seeking Social Support', 0.583166852036739), ('Planful Problem Solving', 0.5544287045601786), ('Positive Reappraisal\\xa0', 0.7399414507581406)]\n",
      "[('distancing', 0.7552119908837425), ('Self-control ', 0.6273813927388826), ('Escape-Avoidance', 0.5673302678241405)]\n",
      "0    Confrontive  Seeking Social Support  Planful Problem Solving  \\\n",
      "1           11.0                    15.0                      9.0   \n",
      "2            9.0                    11.0                      8.0   \n",
      "3           10.0                     8.0                      6.0   \n",
      "4            8.0                     9.0                      6.0   \n",
      "5           15.0                    13.0                     14.0   \n",
      "..           ...                     ...                      ...   \n",
      "166          8.0                    13.0                      9.0   \n",
      "167         16.0                    10.0                     15.0   \n",
      "168          7.0                     9.0                     10.0   \n",
      "169          6.0                     0.0                      4.0   \n",
      "170          9.0                    11.0                     12.0   \n",
      "\n",
      "0    Positive Reappraisal   \n",
      "1                     12.0  \n",
      "2                     15.0  \n",
      "3                      9.0  \n",
      "4                      9.0  \n",
      "5                     19.0  \n",
      "..                     ...  \n",
      "166                   11.0  \n",
      "167                   20.0  \n",
      "168                   16.0  \n",
      "169                    5.0  \n",
      "170                   18.0  \n",
      "\n",
      "[170 rows x 4 columns]\n",
      "Factor 1 Cronbach A (0.7797447348103161, array([0.72 , 0.829]))\n",
      "Factor 2 Cronbach A (0.739881016196928, array([0.664, 0.801]))\n"
     ]
    }
   ],
   "source": [
    "fa = FactorAnalyzer(2, rotation='varimax')\n",
    "fa.fit(d_fa_coping)\n",
    "loads = fa.loadings_\n",
    "\n",
    "df_coping = pd.DataFrame(loads, columns=['f1', 'f2'])\n",
    "df_coping.insert (0, \"Features\", [col for col in d_fa_coping])\n",
    "print(df_coping)\n",
    "\n",
    "list_f1 = list(zip(df_coping['Features'].tolist(), df_coping['f1'].tolist()))\n",
    "list_f1 = [x for x in list_f1 if x[1] > 0.5]\n",
    "print(list_f1)\n",
    "\n",
    "list_f2 = list(zip(df_coping['Features'].tolist(), df_coping['f2'].tolist()))\n",
    "list_f2 = [x for x in list_f2 if x[1] > 0.5]\n",
    "print(list_f2)\n",
    "\n",
    "factor1 = d_fa_coping.astype(float)[[x[0] for x in list_f1]]\n",
    "print(factor1)\n",
    "factor2 = d_fa_coping.astype(float)[[x[0] for x in list_f2]]\n",
    "\n",
    "print('Factor 1 Cronbach A', pg.cronbach_alpha(factor1))\n",
    "print('Factor 2 Cronbach A', pg.cronbach_alpha(factor2))"
   ]
  },
  {
   "cell_type": "code",
   "execution_count": 144,
   "metadata": {},
   "outputs": [
    {
     "name": "stdout",
     "output_type": "stream",
     "text": [
      "0   Declarative Knowledge (DK) Procedural Knowledge (PK)  \\\n",
      "1                            6                         3   \n",
      "2                            7                         3   \n",
      "3                            8                         4   \n",
      "4                            7                         2   \n",
      "5                            5                         4   \n",
      "..                         ...                       ...   \n",
      "166                          8                         4   \n",
      "167                          3                         4   \n",
      "168                          4                         3   \n",
      "169                          5                         1   \n",
      "170                          8                         4   \n",
      "\n",
      "0   Conditional Knowledge (CK) Planning  \\\n",
      "1                            4        4   \n",
      "2                            4        5   \n",
      "3                            5        7   \n",
      "4                            5        5   \n",
      "5                            4        3   \n",
      "..                         ...      ...   \n",
      "166                          4        6   \n",
      "167                          4        6   \n",
      "168                          5        5   \n",
      "169                          4        4   \n",
      "170                          5        6   \n",
      "\n",
      "0   Information Management Strategies (IMS) Comprehension Monitoring (M)  \\\n",
      "1                                         9                            5   \n",
      "2                                         8                            5   \n",
      "3                                        10                            7   \n",
      "4                                         7                            5   \n",
      "5                                         9                            5   \n",
      "..                                      ...                          ...   \n",
      "166                                       8                            5   \n",
      "167                                       8                            7   \n",
      "168                                      10                            6   \n",
      "169                                       7                            3   \n",
      "170                                      10                            7   \n",
      "\n",
      "0   Debugging Strategies (D) Evaluation  \n",
      "1                          4          4  \n",
      "2                          4          5  \n",
      "3                          5          6  \n",
      "4                          4          4  \n",
      "5                          5          4  \n",
      "..                       ...        ...  \n",
      "166                        4          5  \n",
      "167                        5          6  \n",
      "168                        5          5  \n",
      "169                        5          4  \n",
      "170                        5          6  \n",
      "\n",
      "[167 rows x 8 columns]\n",
      "[('Planning', 0.5214102335745849), ('Comprehension Monitoring (M)', 0.6448621222265828), ('Evaluation', 0.8259105276746896)]\n",
      "[('Procedural Knowledge (PK)', 0.7025010742731705), ('Information Management Strategies (IMS)', 0.5945821890728534)]\n",
      "Factor 1 Cronbach A (0.7809684811178756, array([0.716, 0.833]))\n",
      "Factor 2 Cronbach A (0.612193588937775, array([0.474, 0.714]))\n"
     ]
    }
   ],
   "source": [
    "fa = FactorAnalyzer(2, rotation='varimax')\n",
    "fa.fit(d_fa_metacog_1)\n",
    "loads = fa.loadings_\n",
    "\n",
    "df_metacog = pd.DataFrame(loads, columns=['f1', 'f2'])\n",
    "df_metacog.insert (0, \"Features\", [col for col in d_fa_metacog_1])\n",
    "print(d_fa_metacog_1)\n",
    "\n",
    "list_f1 = list(zip(df_metacog['Features'].tolist(), df_metacog['f1'].tolist()))\n",
    "list_f1 = [x for x in list_f1 if x[1] > 0.5]\n",
    "print(list_f1)\n",
    "\n",
    "list_f2 = list(zip(df_metacog['Features'].tolist(), df_metacog['f2'].tolist()))\n",
    "list_f2 = [x for x in list_f2 if x[1] > 0.5]\n",
    "print(list_f2)\n",
    "\n",
    "factor1 = d_fa_metacog_1.astype(float)[[x[0] for x in list_f1]]\n",
    "factor2 = d_fa_metacog_1.astype(float)[[x[0] for x in list_f2]]\n",
    "\n",
    "print('Factor 1 Cronbach A', pg.cronbach_alpha(factor1))\n",
    "print('Factor 2 Cronbach A', pg.cronbach_alpha(factor2))"
   ]
  },
  {
   "cell_type": "markdown",
   "metadata": {},
   "source": [
    "Coping Strategies:\n",
    "\n",
    "Factor 1: Confronting + Seeking Social Support + Planful Problem Solving + Positive Reappraisal (Cronbach’s Alpha = 0.7797447348103161);\n",
    "\n",
    "Factor 2: Distancing + Self-Control + Escape-Avoidance (Cronbach’s Alpha = 0.739881016196928).\n",
    "\n",
    "We can see that Factor 2 has an overacrhing theme of avoiding and escaping as well as keeping a distance from the source of stress. Alas, Factor 1 is not as straightforward, though it may unite the proactive coping strategies. \n",
    "\n",
    "Metacognitive Abilities: \n",
    "\n",
    "Factor 1: 'Planning' + 'Comprehension Monitoring (M)' + 'Evaluation' (Cronbach’s Alpha = 0.78);\n",
    "\n",
    "Factor 2: Procedural Knowledge (PK) + Information Management Strategies (IMS) (Cronbach’s Alpha = 0.62)"
   ]
  }
 ],
 "metadata": {
  "kernelspec": {
   "display_name": "Python 3",
   "language": "python",
   "name": "python3"
  },
  "language_info": {
   "codemirror_mode": {
    "name": "ipython",
    "version": 3
   },
   "file_extension": ".py",
   "mimetype": "text/x-python",
   "name": "python",
   "nbconvert_exporter": "python",
   "pygments_lexer": "ipython3",
   "version": "3.7.6"
  }
 },
 "nbformat": 4,
 "nbformat_minor": 4
}
